{
 "cells": [
  {
   "cell_type": "code",
   "execution_count": 1,
   "id": "58655083",
   "metadata": {},
   "outputs": [],
   "source": [
    "import torch\n",
    "import torchvision\n",
    "import numpy as np\n",
    "import torch.nn as nn\n",
    "from sklearn import datasets\n",
    "import math\n",
    "from torch.utils.data import *"
   ]
  },
  {
   "cell_type": "code",
   "execution_count": 2,
   "id": "0a3d1b4d",
   "metadata": {},
   "outputs": [],
   "source": [
    "class WineDataset():\n",
    "    def __init__(self):\n",
    "        xy = np.loadtxt('wine.csv', delimiter=',', dtype=np.float32, skiprows=1)\n",
    "        self.x = torch.from_numpy(xy[:,1:])\n",
    "        self.y = torch.from_numpy(xy[:,[0]])\n",
    "        \n",
    "        self.n_samples = xy.shape[0]\n",
    "        \n",
    "        \n",
    "        \n",
    "    def __getitem__(self,idx):\n",
    "        return self.x[idx], self.y[idx]\n",
    "    \n",
    "    def __len__(self):\n",
    "        return self.n_samples"
   ]
  },
  {
   "cell_type": "code",
   "execution_count": 3,
   "id": "39b2955b",
   "metadata": {},
   "outputs": [],
   "source": [
    "dataset = WineDataset()"
   ]
  },
  {
   "cell_type": "code",
   "execution_count": 10,
   "id": "c43a2a5c",
   "metadata": {},
   "outputs": [],
   "source": [
    "dataloader = DataLoader(dataset, batch_size=4, shuffle=True)"
   ]
  },
  {
   "cell_type": "code",
   "execution_count": 11,
   "id": "5f13b7e1",
   "metadata": {},
   "outputs": [
    {
     "name": "stdout",
     "output_type": "stream",
     "text": [
      "45.0 178\n"
     ]
    }
   ],
   "source": [
    "num_epochs = 2\n",
    "total_sample = len(dataset)\n",
    "n_iter = np.ceil(total_sample/4)\n",
    "print(n_iter, total_sample)"
   ]
  },
  {
   "cell_type": "code",
   "execution_count": 12,
   "id": "fd8b6f15",
   "metadata": {},
   "outputs": [
    {
     "name": "stdout",
     "output_type": "stream",
     "text": [
      "epoch 1/2, step 5/45.0, inputs torch.Size([4, 13])\n",
      "epoch 1/2, step 10/45.0, inputs torch.Size([4, 13])\n",
      "epoch 1/2, step 15/45.0, inputs torch.Size([4, 13])\n",
      "epoch 1/2, step 20/45.0, inputs torch.Size([4, 13])\n",
      "epoch 1/2, step 25/45.0, inputs torch.Size([4, 13])\n",
      "epoch 1/2, step 30/45.0, inputs torch.Size([4, 13])\n",
      "epoch 1/2, step 35/45.0, inputs torch.Size([4, 13])\n",
      "epoch 1/2, step 40/45.0, inputs torch.Size([4, 13])\n",
      "epoch 1/2, step 45/45.0, inputs torch.Size([2, 13])\n",
      "epoch 2/2, step 5/45.0, inputs torch.Size([4, 13])\n",
      "epoch 2/2, step 10/45.0, inputs torch.Size([4, 13])\n",
      "epoch 2/2, step 15/45.0, inputs torch.Size([4, 13])\n",
      "epoch 2/2, step 20/45.0, inputs torch.Size([4, 13])\n",
      "epoch 2/2, step 25/45.0, inputs torch.Size([4, 13])\n",
      "epoch 2/2, step 30/45.0, inputs torch.Size([4, 13])\n",
      "epoch 2/2, step 35/45.0, inputs torch.Size([4, 13])\n",
      "epoch 2/2, step 40/45.0, inputs torch.Size([4, 13])\n",
      "epoch 2/2, step 45/45.0, inputs torch.Size([2, 13])\n"
     ]
    }
   ],
   "source": [
    "for epoch in range(num_epochs):\n",
    "    for i,(inputs, labels) in enumerate(dataloader):\n",
    "        if (i+1)%5==0:\n",
    "            print(f'epoch {epoch+1}/{num_epochs}, step {i+1}/{n_iter}, inputs {inputs.shape}')"
   ]
  },
  {
   "cell_type": "code",
   "execution_count": null,
   "id": "6b7b5c37",
   "metadata": {},
   "outputs": [],
   "source": []
  },
  {
   "cell_type": "code",
   "execution_count": null,
   "id": "7fe849c0",
   "metadata": {},
   "outputs": [],
   "source": []
  }
 ],
 "metadata": {
  "kernelspec": {
   "display_name": "Python 3",
   "language": "python",
   "name": "python3"
  },
  "language_info": {
   "codemirror_mode": {
    "name": "ipython",
    "version": 3
   },
   "file_extension": ".py",
   "mimetype": "text/x-python",
   "name": "python",
   "nbconvert_exporter": "python",
   "pygments_lexer": "ipython3",
   "version": "3.8.8"
  }
 },
 "nbformat": 4,
 "nbformat_minor": 5
}
