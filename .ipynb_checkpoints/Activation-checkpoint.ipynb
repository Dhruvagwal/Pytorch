{
 "cells": [
  {
   "cell_type": "code",
   "execution_count": 2,
   "id": "29662d7f",
   "metadata": {},
   "outputs": [],
   "source": [
    "import torch\n",
    "import torchvision\n",
    "import torch.nn as nn\n",
    "import torch.nn.functional as F"
   ]
  },
  {
   "cell_type": "code",
   "execution_count": 3,
   "id": "fcab2593",
   "metadata": {},
   "outputs": [],
   "source": [
    "class NeauralNet(nn.Module):\n",
    "    def __init__(self, input_size, hidden_size):\n",
    "        super(NeauralNet, self).__init__()\n",
    "        self.l = nn.Linear(input_size, hidden_size)\n",
    "        self.r = nn.ReLU()\n",
    "        self.o = nn.Linear(hidden_size, 1)\n",
    "        self.s = nn.Sigmoid()\n",
    "        \n",
    "    def forward(self,x):\n",
    "        out = self.l(x)\n",
    "        out = self.r(out)\n",
    "        out = self.o(out)\n",
    "        return self.s(out)"
   ]
  },
  {
   "cell_type": "code",
   "execution_count": null,
   "id": "458ffb05",
   "metadata": {},
   "outputs": [],
   "source": []
  }
 ],
 "metadata": {
  "kernelspec": {
   "display_name": "Python 3",
   "language": "python",
   "name": "python3"
  },
  "language_info": {
   "codemirror_mode": {
    "name": "ipython",
    "version": 3
   },
   "file_extension": ".py",
   "mimetype": "text/x-python",
   "name": "python",
   "nbconvert_exporter": "python",
   "pygments_lexer": "ipython3",
   "version": "3.8.8"
  }
 },
 "nbformat": 4,
 "nbformat_minor": 5
}
