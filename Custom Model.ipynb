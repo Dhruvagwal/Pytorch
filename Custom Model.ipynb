{
 "cells": [
  {
   "cell_type": "code",
   "execution_count": 1,
   "id": "657099b1",
   "metadata": {},
   "outputs": [],
   "source": [
    "import torch\n",
    "import torch.nn as nn"
   ]
  },
  {
   "cell_type": "code",
   "execution_count": 2,
   "id": "109db0f7",
   "metadata": {},
   "outputs": [],
   "source": [
    "X = torch.tensor([[1],[2],[3],[4]], dtype=torch.float32)\n",
    "Y = torch.tensor([[2.4],[4.4],[6.4],[8.4]], dtype=torch.float32)\n",
    "X_test = torch.tensor([5], dtype=torch.float32)\n",
    "n_samples, n_features = X.shape"
   ]
  },
  {
   "cell_type": "code",
   "execution_count": 4,
   "id": "16cc261f",
   "metadata": {},
   "outputs": [],
   "source": [
    "learning_rate = 0.01\n",
    "n_iters = 40\n",
    "input_size=n_features\n",
    "output_size=n_features"
   ]
  },
  {
   "cell_type": "code",
   "execution_count": 5,
   "id": "67f4cc69",
   "metadata": {},
   "outputs": [],
   "source": [
    "class LinearRegression(nn.Module):\n",
    "    def __init__(self, input_size, output_size):\n",
    "        super(LinearRegression, self).__init__()\n",
    "        self.lin = nn.Linear(input_size, output_size)\n",
    "    def forward(self,x):\n",
    "        return self.lin(x)\n",
    "\n",
    "model = LinearRegression(input_size, output_size)\n",
    "optimizer = torch.optim.SGD(model.parameters(), lr=learning_rate)\n",
    "loss = nn.MSELoss()"
   ]
  },
  {
   "cell_type": "code",
   "execution_count": 6,
   "id": "0365b77c",
   "metadata": {},
   "outputs": [
    {
     "name": "stdout",
     "output_type": "stream",
     "text": [
      "epochs 1: w=0.806, loss=19.67633057\n",
      "epochs 11: w=1.983, loss=2.98244238\n",
      "epochs 21: w=3.251, loss=6.22423553\n",
      "epochs 31: w=0.629, loss=20.52939224\n",
      "Prediction after training: f(5)=14.925\n"
     ]
    }
   ],
   "source": [
    "for epochs in range(n_iters):\n",
    "    y_pred = model(X)\n",
    "    \n",
    "    l = loss(Y, y_pred)\n",
    "    \n",
    "    dw = l.backward()\n",
    "    \n",
    "    optimizer.step()\n",
    "    \n",
    "    if epochs % 10 == 0:\n",
    "        [w,b] = model.parameters()\n",
    "        print(f'epochs {epochs+1}: w={w[0][0].item():.3f}, loss={l:.8f}')\n",
    "        \n",
    "print(f'Prediction after training: f(5)={model(X_test).item():.3f}')"
   ]
  },
  {
   "cell_type": "code",
   "execution_count": null,
   "id": "7ee6ca53",
   "metadata": {},
   "outputs": [],
   "source": []
  }
 ],
 "metadata": {
  "kernelspec": {
   "display_name": "Python 3",
   "language": "python",
   "name": "python3"
  },
  "language_info": {
   "codemirror_mode": {
    "name": "ipython",
    "version": 3
   },
   "file_extension": ".py",
   "mimetype": "text/x-python",
   "name": "python",
   "nbconvert_exporter": "python",
   "pygments_lexer": "ipython3",
   "version": "3.8.8"
  }
 },
 "nbformat": 4,
 "nbformat_minor": 5
}
