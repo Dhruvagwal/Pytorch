{
 "cells": [
  {
   "cell_type": "code",
   "execution_count": 1,
   "id": "59ce4428",
   "metadata": {},
   "outputs": [],
   "source": [
    "import numpy as np"
   ]
  },
  {
   "cell_type": "code",
   "execution_count": 2,
   "id": "2a4734f3",
   "metadata": {},
   "outputs": [],
   "source": [
    "X = np.array([1,2,3,4], dtype=np.float32)\n",
    "Y = np.array([2,4,6,8], dtype=np.float32)\n",
    "\n",
    "w = 0.0"
   ]
  },
  {
   "cell_type": "code",
   "execution_count": 3,
   "id": "eec21b2d",
   "metadata": {},
   "outputs": [],
   "source": [
    "#model Prediction\n",
    "def forward(x):\n",
    "    return w*x\n",
    "\n",
    "#loss\n",
    "def loss(y, y_pred):\n",
    "    return ((y_pred-y)**2).mean()\n",
    "\n",
    "def gradient(x, y, y_pred):\n",
    "    return np.dot(2*x, (y_pred-y)).mean()"
   ]
  },
  {
   "cell_type": "code",
   "execution_count": 4,
   "id": "e81be027",
   "metadata": {},
   "outputs": [
    {
     "name": "stdout",
     "output_type": "stream",
     "text": [
      "Prediction before training 0.000\n",
      "epochs:1 loss:30.0 weight = 12.000\n",
      "epochs:3 loss:18750.0 weight = 252.000\n",
      "epochs:5 loss:11718750.0 weight = 6252.000\n",
      "epochs:7 loss:7324218368.0 weight = 156252.000\n",
      "epochs:9 loss:4577636646912.0 weight = 3906252.000\n",
      "epochs:11 loss:2861023207882752.0 weight = 97656247.200\n",
      "epochs:13 loss:1.788139333664899e+18 weight = 2441406288.800\n",
      "epochs:15 loss:1.1175871063554282e+21 weight = 61035156509.600\n",
      "epochs:17 loss:6.984918730737233e+23 weight = 1525878684292.000\n",
      "epochs:19 loss:4.36557324834477e+26 weight = 38146965148701.602\n",
      "Prediction after training -953674108443500.12500000\n"
     ]
    }
   ],
   "source": [
    "print(f'Prediction before training {forward(5):.3f}')\n",
    "\n",
    "learning_rate = 0.1\n",
    "n_iterations = 20\n",
    "\n",
    "for epochs in range(n_iterations):\n",
    "    \n",
    "    y_pred = forward(X)\n",
    "    \n",
    "    l = loss(Y, y_pred)\n",
    "    \n",
    "    dw = gradient(X, Y, y_pred)\n",
    "    \n",
    "    w -= dw*learning_rate\n",
    "    \n",
    "    if epochs%2 == 0:\n",
    "        print(f'epochs:{epochs+1} loss:{l} weight = {w:.3f}')\n",
    "print(f'Prediction after training {forward(5):.8f}')"
   ]
  },
  {
   "cell_type": "code",
   "execution_count": null,
   "id": "d1dd882e",
   "metadata": {},
   "outputs": [],
   "source": []
  },
  {
   "cell_type": "code",
   "execution_count": null,
   "id": "1b35b9fa",
   "metadata": {},
   "outputs": [],
   "source": []
  }
 ],
 "metadata": {
  "kernelspec": {
   "display_name": "Python 3",
   "language": "python",
   "name": "python3"
  },
  "language_info": {
   "codemirror_mode": {
    "name": "ipython",
    "version": 3
   },
   "file_extension": ".py",
   "mimetype": "text/x-python",
   "name": "python",
   "nbconvert_exporter": "python",
   "pygments_lexer": "ipython3",
   "version": "3.8.8"
  }
 },
 "nbformat": 4,
 "nbformat_minor": 5
}
