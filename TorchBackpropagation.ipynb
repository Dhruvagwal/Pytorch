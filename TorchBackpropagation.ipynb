{
 "cells": [
  {
   "cell_type": "code",
   "execution_count": 1,
   "id": "5af8a3c4",
   "metadata": {},
   "outputs": [],
   "source": [
    "import torch"
   ]
  },
  {
   "cell_type": "code",
   "execution_count": 2,
   "id": "e72f0b6f",
   "metadata": {},
   "outputs": [],
   "source": [
    "X = torch.tensor([1,2,3,4], dtype=torch.float32)\n",
    "Y = torch.tensor([2.4,4.4,6.4,8.4], dtype=torch.float32)"
   ]
  },
  {
   "cell_type": "code",
   "execution_count": 3,
   "id": "197f7549",
   "metadata": {},
   "outputs": [],
   "source": [
    "w = torch.tensor(0.0, dtype=torch.float32, requires_grad=True)"
   ]
  },
  {
   "cell_type": "code",
   "execution_count": 4,
   "id": "8b4db141",
   "metadata": {},
   "outputs": [],
   "source": [
    "def forward(x):\n",
    "    return w*x + 0.4\n",
    "\n",
    "def loss(y, y_pred):\n",
    "    return ((y_pred-y)**2).mean()"
   ]
  },
  {
   "cell_type": "code",
   "execution_count": 5,
   "id": "f230a31e",
   "metadata": {},
   "outputs": [
    {
     "name": "stdout",
     "output_type": "stream",
     "text": [
      "epochs 1: w=0.300, loss=29.99999809\n",
      "epochs 11: w=1.665, loss=1.16278529\n",
      "epochs 21: w=1.934, loss=0.04506900\n",
      "epochs 31: w=1.987, loss=0.00174684\n",
      "epochs 41: w=1.997, loss=0.00006770\n",
      "epochs 51: w=1.999, loss=0.00000262\n",
      "epochs 61: w=2.000, loss=0.00000010\n",
      "epochs 71: w=2.000, loss=0.00000000\n",
      "epochs 81: w=2.000, loss=0.00000000\n",
      "epochs 91: w=2.000, loss=0.00000000\n",
      "Prediction after training: f(5)=10.400\n"
     ]
    }
   ],
   "source": [
    "learning_rate = 0.01\n",
    "n_iters = 100\n",
    "for epochs in range(n_iters):\n",
    "    y_pred = forward(X)\n",
    "    l = loss(Y, y_pred)\n",
    "    \n",
    "    dw = l.backward()\n",
    "    \n",
    "    with torch.no_grad():\n",
    "        w-=learning_rate*w.grad\n",
    "    \n",
    "    w.grad.zero_()\n",
    "    \n",
    "    if epochs % 10 == 0:\n",
    "        print(f'epochs {epochs+1}: w={w:.3f}, loss={l:.8f}')\n",
    "print(f'Prediction after training: f(5)={forward(5):.3f}')"
   ]
  },
  {
   "cell_type": "code",
   "execution_count": null,
   "id": "b7cef844",
   "metadata": {},
   "outputs": [],
   "source": []
  }
 ],
 "metadata": {
  "kernelspec": {
   "display_name": "Python 3",
   "language": "python",
   "name": "python3"
  },
  "language_info": {
   "codemirror_mode": {
    "name": "ipython",
    "version": 3
   },
   "file_extension": ".py",
   "mimetype": "text/x-python",
   "name": "python",
   "nbconvert_exporter": "python",
   "pygments_lexer": "ipython3",
   "version": "3.8.8"
  }
 },
 "nbformat": 4,
 "nbformat_minor": 5
}
