{
 "cells": [
  {
   "cell_type": "code",
   "execution_count": 1,
   "id": "b2b3bd0f",
   "metadata": {},
   "outputs": [],
   "source": [
    "# Design Model (input, output, size, forward pass)\n",
    "# Construct loss and optimizer\n",
    "# Training loop\n",
    "# - forward Pass : compute prediction\n",
    "# - backward Pass : gradient\n",
    "# - update weights"
   ]
  },
  {
   "cell_type": "code",
   "execution_count": 3,
   "id": "d65f9fe4",
   "metadata": {},
   "outputs": [],
   "source": [
    "import torch\n",
    "import torch.nn as nn\n",
    "import numpy as np\n",
    "from sklearn import datasets\n",
    "import matplotlib.pyplot as plt"
   ]
  },
  {
   "cell_type": "code",
   "execution_count": 4,
   "id": "625b5dd0",
   "metadata": {},
   "outputs": [],
   "source": [
    "X_numpy, y_numpy = datasets.make_regression(n_samples=100, n_features=1, noise=20, random_state=1)\n",
    "X = torch.from_numpy(X_numpy.astype(np.float32))\n",
    "Y = torch.from_numpy(y_numpy.astype(np.float32))"
   ]
  },
  {
   "cell_type": "code",
   "execution_count": 8,
   "id": "172edad5",
   "metadata": {},
   "outputs": [],
   "source": [
    "y = Y.view(Y.shape[0],1)"
   ]
  },
  {
   "cell_type": "code",
   "execution_count": 9,
   "id": "26c411e9",
   "metadata": {},
   "outputs": [],
   "source": [
    "n_samples, n_features = X.shape"
   ]
  },
  {
   "cell_type": "code",
   "execution_count": 10,
   "id": "d8ae1124",
   "metadata": {},
   "outputs": [],
   "source": [
    "model = nn.Linear(n_features, 1)\n",
    "loss = nn.MSELoss()\n",
    "optimizer = torch.optim.SGD(model.parameters(),lr=0.01)"
   ]
  },
  {
   "cell_type": "code",
   "execution_count": 11,
   "id": "66e14fee",
   "metadata": {},
   "outputs": [
    {
     "name": "stdout",
     "output_type": "stream",
     "text": [
      "epoch:10: loss=4300.7607\n",
      "epoch:20: loss=3211.3743\n",
      "epoch:30: loss=2422.8713\n",
      "epoch:40: loss=1851.5541\n",
      "epoch:50: loss=1437.2015\n",
      "epoch:60: loss=1136.4211\n",
      "epoch:70: loss=917.9039\n",
      "epoch:80: loss=759.0307\n",
      "epoch:90: loss=643.4413\n",
      "epoch:100: loss=559.2898\n"
     ]
    }
   ],
   "source": [
    "num_epochs = 100\n",
    "for epoch in range(num_epochs):\n",
    "    y_pred = model(X) \n",
    "    l = loss(y, y_pred)\n",
    "    l.backward()\n",
    "    \n",
    "    optimizer.step()\n",
    "    \n",
    "    optimizer.zero_grad()\n",
    "    \n",
    "    if (epoch+1) % 10 == 0:\n",
    "        print(f'epoch:{epoch+1}: loss={l.item():.4f}')"
   ]
  },
  {
   "cell_type": "code",
   "execution_count": 12,
   "id": "4e116fb4",
   "metadata": {},
   "outputs": [],
   "source": [
    "predicted = model(X).detach()"
   ]
  },
  {
   "cell_type": "code",
   "execution_count": 13,
   "id": "aa7d76fd",
   "metadata": {},
   "outputs": [
    {
     "data": {
      "image/png": "[encoded data removed]",
      "text/plain": [
       "<Figure size 432x288 with 1 Axes>"
      ]
     },
     "metadata": {
      "needs_background": "light"
     },
     "output_type": "display_data"
    }
   ],
   "source": [
    "plt.plot(X_numpy, y_numpy, 'ro')\n",
    "plt.plot(X_numpy, predicted, 'b')\n",
    "plt.show()"
   ]
  },
  {
   "cell_type": "code",
   "execution_count": null,
   "id": "3ee3fefe",
   "metadata": {},
   "outputs": [],
   "source": []
  }
 ],
 "metadata": {
  "kernelspec": {
   "display_name": "Python 3",
   "language": "python",
   "name": "python3"
  },
  "language_info": {
   "codemirror_mode": {
    "name": "ipython",
    "version": 3
   },
   "file_extension": ".py",
   "mimetype": "text/x-python",
   "name": "python",
   "nbconvert_exporter": "python",
   "pygments_lexer": "ipython3",
   "version": "3.8.8"
  }
 },
 "nbformat": 4,
 "nbformat_minor": 5
}
