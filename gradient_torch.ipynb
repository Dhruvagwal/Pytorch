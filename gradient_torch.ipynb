{
 "cells": [
  {
   "cell_type": "code",
   "execution_count": 1,
   "id": "bd6a4b27",
   "metadata": {},
   "outputs": [],
   "source": [
    "# Design Model (input, output, size, forward pass)\n",
    "# Construct loss and optimizer\n",
    "# Training loop\n",
    "# - forward Pass : compute prediction\n",
    "# - backward Pass : gradient\n",
    "# - update weights"
   ]
  },
  {
   "cell_type": "code",
   "execution_count": 2,
   "id": "7b20e309",
   "metadata": {},
   "outputs": [],
   "source": [
    "import torch\n",
    "import torch.nn as nn"
   ]
  },
  {
   "cell_type": "code",
   "execution_count": 3,
   "id": "599be1fd",
   "metadata": {},
   "outputs": [],
   "source": [
    "X = torch.tensor([[1],[2],[3],[4]], dtype=torch.float32)\n",
    "Y = torch.tensor([[2.4],[4.4],[6.4],[8.4]], dtype=torch.float32)\n",
    "X_test = torch.tensor([5], dtype=torch.float32)\n",
    "n_samples, n_features = X.shape"
   ]
  },
  {
   "cell_type": "code",
   "execution_count": 4,
   "id": "ea2f7974",
   "metadata": {},
   "outputs": [],
   "source": [
    "learning_rate = 0.01\n",
    "n_iters = 40\n",
    "input_size=n_features\n",
    "output_size=n_features\n",
    "model = nn.Linear(input_size, output_size)\n",
    "loss = nn.MSELoss()\n",
    "optimizer = torch.optim.SGD(model.parameters(), lr=learning_rate)"
   ]
  },
  {
   "cell_type": "code",
   "execution_count": 5,
   "id": "4df45c7a",
   "metadata": {},
   "outputs": [
    {
     "name": "stdout",
     "output_type": "stream",
     "text": [
      "epochs 1: w=-0.555, loss=58.44674683\n",
      "epochs 11: w=1.562, loss=9.03974628\n",
      "epochs 21: w=3.957, loss=18.44681168\n",
      "epochs 31: w=-0.280, loss=60.64330292\n",
      "Prediction after training: f(5)=18.801\n"
     ]
    }
   ],
   "source": [
    "for epochs in range(n_iters):\n",
    "    y_pred = model(X)\n",
    "    \n",
    "    l = loss(Y, y_pred)\n",
    "    \n",
    "    dw = l.backward()\n",
    "    \n",
    "    optimizer.step()\n",
    "    \n",
    "    if epochs % 10 == 0:\n",
    "        [w,b] = model.parameters()\n",
    "        print(f'epochs {epochs+1}: w={w[0][0].item():.3f}, loss={l:.8f}')\n",
    "        \n",
    "print(f'Prediction after training: f(5)={model(X_test).item():.3f}')"
   ]
  },
  {
   "cell_type": "code",
   "execution_count": null,
   "id": "3d26bce7",
   "metadata": {},
   "outputs": [],
   "source": []
  }
 ],
 "metadata": {
  "kernelspec": {
   "display_name": "Python 3",
   "language": "python",
   "name": "python3"
  },
  "language_info": {
   "codemirror_mode": {
    "name": "ipython",
    "version": 3
   },
   "file_extension": ".py",
   "mimetype": "text/x-python",
   "name": "python",
   "nbconvert_exporter": "python",
   "pygments_lexer": "ipython3",
   "version": "3.8.8"
  }
 },
 "nbformat": 4,
 "nbformat_minor": 5
}
