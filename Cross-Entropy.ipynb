{
 "cells": [
  {
   "cell_type": "code",
   "execution_count": 1,
   "id": "91c13bec",
   "metadata": {},
   "outputs": [],
   "source": [
    "import numpy as np"
   ]
  },
  {
   "cell_type": "code",
   "execution_count": 2,
   "id": "8c6675a2",
   "metadata": {},
   "outputs": [],
   "source": [
    "def cross_entropy(actual, predicted):\n",
    "    return -np.sum(actual * np.log(predicted))"
   ]
  },
  {
   "cell_type": "code",
   "execution_count": 3,
   "id": "66e6b100",
   "metadata": {},
   "outputs": [
    {
     "name": "stdout",
     "output_type": "stream",
     "text": [
      "0.35667494393873245 2.3025850929940455\n"
     ]
    }
   ],
   "source": [
    "Y = np.array([1,0,0])\n",
    "Y_pred_good = np.array([.7, .2, .1])\n",
    "Y_pred_bad = np.array([.1, .3, .6])\n",
    "\n",
    "l1 = cross_entropy(Y, Y_pred_good)\n",
    "l2 = cross_entropy(Y, Y_pred_bad)\n",
    "\n",
    "print(l1, l2)"
   ]
  },
  {
   "cell_type": "code",
   "execution_count": 4,
   "id": "20f6723d",
   "metadata": {},
   "outputs": [],
   "source": [
    "# by Torch"
   ]
  },
  {
   "cell_type": "code",
   "execution_count": 5,
   "id": "e2e6b238",
   "metadata": {},
   "outputs": [],
   "source": [
    "import torch\n",
    "import torchvision"
   ]
  },
  {
   "cell_type": "code",
   "execution_count": 6,
   "id": "6cf78c7a",
   "metadata": {},
   "outputs": [],
   "source": [
    "loss = torch.nn.CrossEntropyLoss()"
   ]
  },
  {
   "cell_type": "code",
   "execution_count": 18,
   "id": "4793392e",
   "metadata": {},
   "outputs": [
    {
     "name": "stdout",
     "output_type": "stream",
     "text": [
      "0.4653770923614502 1.6241613626480103\n"
     ]
    }
   ],
   "source": [
    "Y = torch.tensor([2,0,1])\n",
    "\n",
    "Y_pred_good = torch.tensor([[.1, 1.0, 2.1],[2.0, 1.0, .1],[.1, 1.0, .1]])\n",
    "Y_pred_bad = torch.tensor([[2.1, 1.0, 0.1],[.1, 1.0, 2.1],[.1, 3.0, .1]])\n",
    "\n",
    "l1 = loss(Y_pred_good,Y)\n",
    "l2 = loss(Y_pred_bad,Y)\n",
    "\n",
    "print(l1.item(), l2.item())"
   ]
  },
  {
   "cell_type": "code",
   "execution_count": 19,
   "id": "8cef3a47",
   "metadata": {},
   "outputs": [],
   "source": [
    "_, prediction1 = torch.max(Y_pred_good,1) \n",
    "_, prediction2 = torch.max(Y_pred_bad,1) "
   ]
  },
  {
   "cell_type": "code",
   "execution_count": 20,
   "id": "eade9183",
   "metadata": {},
   "outputs": [
    {
     "name": "stdout",
     "output_type": "stream",
     "text": [
      "tensor([0, 2, 1]) tensor([2, 0, 1])\n"
     ]
    }
   ],
   "source": [
    "print(prediction2, prediction1)"
   ]
  },
  {
   "cell_type": "code",
   "execution_count": null,
   "id": "f269d75e",
   "metadata": {},
   "outputs": [],
   "source": []
  }
 ],
 "metadata": {
  "kernelspec": {
   "display_name": "Python 3",
   "language": "python",
   "name": "python3"
  },
  "language_info": {
   "codemirror_mode": {
    "name": "ipython",
    "version": 3
   },
   "file_extension": ".py",
   "mimetype": "text/x-python",
   "name": "python",
   "nbconvert_exporter": "python",
   "pygments_lexer": "ipython3",
   "version": "3.8.8"
  }
 },
 "nbformat": 4,
 "nbformat_minor": 5
}
