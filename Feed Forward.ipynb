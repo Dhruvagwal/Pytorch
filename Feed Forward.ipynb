{
 "cells": [
  {
   "cell_type": "code",
   "execution_count": 1,
   "id": "2a4e86db",
   "metadata": {},
   "outputs": [],
   "source": [
    "import torch\n",
    "import torch.nn as nn \n",
    "import torchvision\n",
    "from torchvision import transforms\n",
    "import numpy as np\n",
    "import matplotlib.pyplot as plt\n",
    "import sys\n",
    "\n",
    "from torch.utils.tensorboard import SummaryWriter\n",
    "\n",
    "# default `log_dir` is \"runs\" - we'll be more specific here\n",
    "writer = SummaryWriter('runs/mnist')"
   ]
  },
  {
   "cell_type": "code",
   "execution_count": 2,
   "id": "0bc9c456",
   "metadata": {},
   "outputs": [],
   "source": [
    "device = 'cpu'"
   ]
  },
  {
   "cell_type": "code",
   "execution_count": 3,
   "id": "057d5879",
   "metadata": {},
   "outputs": [],
   "source": [
    "input_size = 784\n",
    "hidden_size = 100\n",
    "num_classes = 10\n",
    "num_epochs = 2\n",
    "batch_size = 100\n",
    "learning_rate = .001"
   ]
  },
  {
   "cell_type": "code",
   "execution_count": 4,
   "id": "97c61d12",
   "metadata": {},
   "outputs": [
    {
     "name": "stderr",
     "output_type": "stream",
     "text": [
      "C:\\Users\\Dhruv\\anaconda3\\lib\\site-packages\\torchvision\\datasets\\mnist.py:498: UserWarning: The given NumPy array is not writeable, and PyTorch does not support non-writeable tensors. This means you can write to the underlying (supposedly non-writeable) NumPy array using the tensor. You may want to copy the array to protect its data or make it writeable before converting it to a tensor. This type of warning will be suppressed for the rest of this program. (Triggered internally at  ..\\torch\\csrc\\utils\\tensor_numpy.cpp:180.)\n",
      "  return torch.from_numpy(parsed.astype(m[2], copy=False)).view(*s)\n"
     ]
    }
   ],
   "source": [
    "train_dataset = torchvision.datasets.MNIST(root='./data', train=True, transform=transforms.ToTensor(), download=True)\n",
    "test_dataset = torchvision.datasets.MNIST(root='./data', train=False, transform=transforms.ToTensor())"
   ]
  },
  {
   "cell_type": "code",
   "execution_count": 5,
   "id": "81a0d0f1",
   "metadata": {},
   "outputs": [],
   "source": [
    "train_loader = torch.utils.data.DataLoader(dataset=train_dataset, batch_size=batch_size, shuffle=True)\n",
    "test_loader = torch.utils.data.DataLoader(dataset=train_dataset, batch_size=batch_size, shuffle=False)"
   ]
  },
  {
   "cell_type": "code",
   "execution_count": 6,
   "id": "7ee63545",
   "metadata": {},
   "outputs": [
    {
     "name": "stdout",
     "output_type": "stream",
     "text": [
      "torch.Size([100, 1, 28, 28]) torch.Size([100])\n"
     ]
    }
   ],
   "source": [
    "example = iter(train_loader)\n",
    "samples, labels = example.next()\n",
    "print(samples.shape, labels.shape)"
   ]
  },
  {
   "cell_type": "code",
   "execution_count": 7,
   "id": "8914ee49",
   "metadata": {},
   "outputs": [
    {
     "data": {
      "image/png": "[encoded data removed]",
      "text/plain": [
       "<Figure size 432x288 with 6 Axes>"
      ]
     },
     "metadata": {
      "needs_background": "light"
     },
     "output_type": "display_data"
    }
   ],
   "source": [
    "for i in range(6):\n",
    "    plt.subplot(2,3, i+1)\n",
    "    plt.imshow(samples[i][0], cmap='gray')\n",
    "img_grid = torchvision.utils.make_grid(samples)\n",
    "writer.add_image('mnist_images', img_grid)"
   ]
  },
  {
   "cell_type": "code",
   "execution_count": 8,
   "id": "ebd16965",
   "metadata": {},
   "outputs": [],
   "source": [
    "class NeuralNet(nn.Module):\n",
    "    def __init__(self, input_size, hidden_size, num_classes):\n",
    "        super(NeuralNet, self).__init__()\n",
    "        self.L1 = nn.Linear(input_size, hidden_size)\n",
    "        self.Relu = nn.ReLU()\n",
    "        self.L2 = nn.Linear(hidden_size, num_classes)\n",
    "        \n",
    "    def forward(self,x):\n",
    "        output = self.L1(x)\n",
    "        output = self.Relu(output)\n",
    "        return self.L2(output)"
   ]
  },
  {
   "cell_type": "code",
   "execution_count": 9,
   "id": "3004bf14",
   "metadata": {},
   "outputs": [],
   "source": [
    "model = NeuralNet(input_size, hidden_size, num_classes)"
   ]
  },
  {
   "cell_type": "code",
   "execution_count": 10,
   "id": "eccb4e02",
   "metadata": {},
   "outputs": [],
   "source": [
    "loss = nn.CrossEntropyLoss()\n",
    "optim = torch.optim.Adam(model.parameters(), lr=learning_rate)\n",
    "\n",
    "writer.add_graph(model, samples.reshape(-1,28*28))"
   ]
  },
  {
   "cell_type": "code",
   "execution_count": 11,
   "id": "017fb0b2",
   "metadata": {},
   "outputs": [
    {
     "name": "stdout",
     "output_type": "stream",
     "text": [
      "epoch 1/2 : step100 loss = 2.2060\n",
      "epoch 1/2 : step200 loss = 2.2406\n",
      "epoch 1/2 : step300 loss = 2.2457\n",
      "epoch 1/2 : step400 loss = 2.2042\n",
      "epoch 1/2 : step500 loss = 2.2597\n",
      "epoch 1/2 : step600 loss = 2.2341\n",
      "epoch 2/2 : step100 loss = 2.1962\n",
      "epoch 2/2 : step200 loss = 2.2308\n",
      "epoch 2/2 : step300 loss = 2.2387\n",
      "epoch 2/2 : step400 loss = 2.2038\n",
      "epoch 2/2 : step500 loss = 2.2541\n",
      "epoch 2/2 : step600 loss = 2.2327\n"
     ]
    }
   ],
   "source": [
    "running_loss = .0\n",
    "running_correct_prediction = 0\n",
    "n_total_steps = len(train_loader)\n",
    "for epoch in range(num_epochs):\n",
    "    for i,(img, label) in enumerate(test_loader):\n",
    "        img = img.reshape(-1,28*28)\n",
    "        \n",
    "        out = model(img)\n",
    "        l = loss(out, labels)\n",
    "                \n",
    "        l.backward()\n",
    "        optim.step()\n",
    "        optim.zero_grad()\n",
    "        \n",
    "        running_loss += l.item()\n",
    "        _, predictions = torch.max(out,1)\n",
    "\n",
    "        running_correct_prediction += (predictions == label).sum().item()\n",
    "        \n",
    "        \n",
    "        if (i+1)%100 == 0 :\n",
    "            print(f'epoch {epoch+1}/{num_epochs} : step{i+1} loss = {l.item():.4f}')\n",
    "            writer.add_scalar('training loss', running_loss/100, epoch*n_total_steps + i)\n",
    "            writer.add_scalar('training accuracy', running_correct_prediction/100, epoch*n_total_steps + i)\n",
    "            \n",
    "            running_loss = .0\n",
    "            running_correct_prediction = 0\n",
    "            \n",
    "            writer.close()"
   ]
  },
  {
   "cell_type": "code",
   "execution_count": 16,
   "id": "b702c927",
   "metadata": {},
   "outputs": [
    {
     "name": "stdout",
     "output_type": "stream",
     "text": [
      "10.925\n"
     ]
    }
   ],
   "source": [
    "labels = []\n",
    "preds = []\n",
    "with torch.no_grad():\n",
    "    n_correct = 0\n",
    "    n_sample = 0\n",
    "    \n",
    "    for img, lbls in test_loader:\n",
    "        img = img.reshape(-1,28*28)\n",
    "\n",
    "        out = model(img)\n",
    "        \n",
    "        _, predictions = torch.max(out,1)\n",
    "        \n",
    "        n_sample +=lbls.shape[0]\n",
    "        n_correct += (predictions == lbls).sum().item()\n",
    "        \n",
    "        class_predictions = [nn.functional.softmax(output, dim=0) for output in out]\n",
    "        preds.append(class_predictions)\n",
    "        labels.append(predictions)\n",
    "        \n",
    "    class_preds = torch.cat([torch.stack(batch) for batch in preds])\n",
    "    class_labels = torch.cat(labels)\n",
    "        \n",
    "        \n",
    "    acc = 100.0 * n_correct/n_sample\n",
    "    print(acc)\n",
    "    \n",
    "    classes = range(10)\n",
    "    for i in classes:\n",
    "        labels_i = class_labels == i\n",
    "        preds_i = class_preds[:, i]\n",
    "        writer.add_pr_curve(str(i), labels_i, preds_i, global_step=0)\n",
    "        writer.close()"
   ]
  },
  {
   "cell_type": "code",
   "execution_count": null,
   "id": "d13212be",
   "metadata": {},
   "outputs": [],
   "source": []
  }
 ],
 "metadata": {
  "kernelspec": {
   "display_name": "Python 3",
   "language": "python",
   "name": "python3"
  },
  "language_info": {
   "codemirror_mode": {
    "name": "ipython",
    "version": 3
   },
   "file_extension": ".py",
   "mimetype": "text/x-python",
   "name": "python",
   "nbconvert_exporter": "python",
   "pygments_lexer": "ipython3",
   "version": "3.8.8"
  }
 },
 "nbformat": 4,
 "nbformat_minor": 5
}
